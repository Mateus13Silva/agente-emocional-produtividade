{
  "nbformat": 4,
  "nbformat_minor": 0,
  "metadata": {
    "colab": {
      "provenance": [],
      "authorship_tag": "ABX9TyN3CYRYLfDP/s9GHngxwMTK",
      "include_colab_link": true
    },
    "kernelspec": {
      "name": "python3",
      "display_name": "Python 3"
    },
    "language_info": {
      "name": "python"
    }
  },
  "cells": [
    {
      "cell_type": "markdown",
      "metadata": {
        "id": "view-in-github",
        "colab_type": "text"
      },
      "source": [
        "<a href=\"https://colab.research.google.com/github/Mateus13Silva/agente-emocional-produtividade/blob/main/Agente_Emocional_Inteligente_definitivo.ipynb\" target=\"_parent\"><img src=\"https://colab.research.google.com/assets/colab-badge.svg\" alt=\"Open In Colab\"/></a>"
      ]
    },
    {
      "cell_type": "code",
      "execution_count": 1,
      "metadata": {
        "id": "XZO_Rtu2ZUn9"
      },
      "outputs": [],
      "source": [
        "# Configura a API Key do Google Gemini\n",
        "import os\n",
        "from google.colab import userdata\n",
        "import google.generativeai as genai\n",
        "\n",
        "os.environ[\"GOOGLE_API_KEY\"] = userdata.get('GOOGLE_API_KEY2')\n",
        "genai.configure(api_key=os.environ[\"GOOGLE_API_KEY\"])"
      ]
    },
    {
      "cell_type": "code",
      "source": [
        "# 🔁 Funções de Agrupamento de Emoções\n",
        "GRUPOS_EMOCAO = {\n",
        "    \"ansioso\": [\"nervoso\", \"tenso\", \"preocupado\"],\n",
        "    \"cansado\": [\"exausto\", \"fadigado\", \"sem energia\"],\n",
        "    \"feliz\": [\"alegre\", \"contente\", \"animado\"],\n",
        "    \"triste\": [\"chateado\", \"deprimido\", \"abatido\"],\n",
        "    \"motivado\": [\"determinado\", \"focado\", \"inspirado\"]\n",
        "}\n",
        "\n",
        "def agrupar_emocao(emocao):\n",
        "    e = emocao.strip().lower()\n",
        "    for grupo, termos in GRUPOS_EMOCAO.items():\n",
        "        if e == grupo or e in termos:\n",
        "            return grupo\n",
        "    return e"
      ],
      "metadata": {
        "id": "XOKzz8MCf57o"
      },
      "execution_count": 2,
      "outputs": []
    },
    {
      "cell_type": "code",
      "source": [
        "# 💬 Respostas automáticas baseadas na emoção\n",
        "def gerar_resposta_emocional(emocao):\n",
        "    emocao = agrupar_emocao(emocao)\n",
        "    respostas = {\n",
        "        \"cansado\": \"Tente fazer uma pausa curta e beber água. Você está indo bem.\",\n",
        "        \"ansioso\": \"Respire fundo por alguns segundos. Tente focar em uma tarefa por vez.\",\n",
        "        \"feliz\": \"Que ótimo! Continue nesse ritmo positivo.\",\n",
        "        \"triste\": \"Lembre-se que está tudo bem não estar bem. Seja gentil consigo mesmo.\",\n",
        "        \"motivado\": \"Excelente! Mantenha o foco e aproveite a produtividade.\"\n",
        "    }\n",
        "    return respostas.get(emocao, \"Estou com você! Continue seguindo em frente.\")\n"
      ],
      "metadata": {
        "id": "1X-DvPTKs6M4"
      },
      "execution_count": 3,
      "outputs": []
    },
    {
      "cell_type": "code",
      "source": [
        "# Solução alternativa para armazenamento local\n",
        "# Instalar pytz e matplotlib se não estiverem instalados\n",
        "!pip install -q pytz matplotlib\n",
        "\n",
        "import json\n",
        "import os\n",
        "from datetime import datetime\n",
        "from collections import Counter\n",
        "import pytz\n",
        "import matplotlib.pyplot as plt\n",
        "from google.colab import files\n",
        "\n",
        "# Diretório local para armazenamento\n",
        "CAMINHO_BASE = \"./meu_agente_emocional/\"\n",
        "os.makedirs(CAMINHO_BASE, exist_ok=True)\n",
        "\n",
        "# Função para carregar interações do arquivo local\n",
        "def carregar_interacoes():\n",
        "    nome_arquivo = CAMINHO_BASE + \"interacoes.json\"\n",
        "    try:\n",
        "        with open(nome_arquivo, \"r\") as f:\n",
        "            return json.load(f)\n",
        "    except (FileNotFoundError, json.JSONDecodeError):\n",
        "        return []\n",
        "\n",
        "# Função para salvar interações no arquivo local\n",
        "def salvar_interacoes(interacoes):\n",
        "    nome_arquivo = CAMINHO_BASE + \"interacoes.json\"\n",
        "    nome_txt = CAMINHO_BASE + \"interacoes_backup.txt\"\n",
        "    try:\n",
        "        with open(nome_arquivo, \"w\") as f:\n",
        "            json.dump(interacoes, f, indent=4)\n",
        "\n",
        "        # Criar backup em .txt para fácil visualização\n",
        "        with open(nome_txt, \"w\") as f:\n",
        "            for i in interacoes:\n",
        "                f.write(f\"{i['timestamp']} | {i['tarefa']} | {i['emocao']} | {i['resposta']}\\n\")\n",
        "\n",
        "        print(\"💾 Interações salvas localmente com sucesso!\")\n",
        "        try:\n",
        "            files.download(nome_arquivo)\n",
        "            print(\"📥 Arquivo JSON disponível para download\")\n",
        "            files.download(nome_txt)\n",
        "            print(\"📥 Arquivo TXT disponível para download\")\n",
        "        except:\n",
        "            print(\"⚠️ Download não disponível neste ambiente\")\n",
        "    except Exception as e:\n",
        "        print(f\"⚠️ Erro ao salvar interações: {e}\")\n",
        "\n",
        "# Função para registrar uma nova interação\n",
        "def registrar_interacao(tarefa, emocao, resposta_llm):\n",
        "    interacoes = carregar_interacoes()\n",
        "    fuso_brasil = pytz.timezone(\"America/Sao_Paulo\")\n",
        "    nova = {\n",
        "        \"timestamp\": datetime.now(fuso_brasil).isoformat(),\n",
        "        \"tarefa\": tarefa,\n",
        "        \"emocao\": agrupar_emocao(emocao),\n",
        "        \"resposta\": resposta_llm\n",
        "    }\n",
        "    interacoes.append(nova)\n",
        "    salvar_interacoes(interacoes)\n",
        "    print(\"✅ Interação registrada com sucesso!\")\n",
        "    return nova[\"resposta\"]\n",
        "\n",
        "# Função para gerar relatório textual\n",
        "def gerar_relatorio_txt(interacoes):\n",
        "    caminho = CAMINHO_BASE + \"relatorio.txt\"\n",
        "    relatorio = \"📊 Relatório Emocional\\n\"\n",
        "    relatorio += f\"📈 Total de interações: {len(interacoes)}\\n\\n\"\n",
        "    relatorio += \"📋 Histórico de Interações:\\n\"\n",
        "    for i in interacoes:\n",
        "        dt = datetime.fromisoformat(i[\"timestamp\"])\n",
        "        relatorio += f\"- {dt.strftime('%d/%m %H:%M')} | Emoção: {i['emocao']} | Tarefa: {i['tarefa']}\\n\"\n",
        "    emocoes = [i[\"emocao\"] for i in interacoes]\n",
        "    tarefas = [i[\"tarefa\"] for i in interacoes]\n",
        "    relatorio += \"\\n📊 Emoções mais frequentes:\\n\"\n",
        "    for e, freq in Counter(emocoes).most_common():\n",
        "        relatorio += f\"- {e}: {freq}x\\n\"\n",
        "    relatorio += \"\\n📝 Tarefas mais citadas:\\n\"\n",
        "    for t, freq in Counter(tarefas).most_common():\n",
        "        relatorio += f\"- {t}: {freq}x\\n\"\n",
        "    relatorio += \"\\n💡 Sugestões do Agente (últimas 3):\\n\"\n",
        "    for r in interacoes[-3:]:\n",
        "        relatorio += f'- \"{r[\"resposta\"]}\"\\n'\n",
        "    try:\n",
        "        with open(caminho, \"w\") as f:\n",
        "            f.write(relatorio)\n",
        "        print(\"📊 Relatório salvo localmente com sucesso!\")\n",
        "        try:\n",
        "            files.download(caminho)\n",
        "            print(\"📥 Relatório disponível para download\")\n",
        "        except:\n",
        "            print(\"⚠️ Download não disponível neste ambiente\")\n",
        "    except Exception as e:\n",
        "        print(f\"⚠️ Erro ao salvar relatório: {e}\")\n",
        "    return relatorio\n",
        "\n",
        "# Função para gerar relatório visual\n",
        "def gerar_relatorio_visual(interacoes):\n",
        "    emocoes = [i[\"emocao\"] for i in interacoes]\n",
        "    contador = Counter(emocoes)\n",
        "    plt.figure(figsize=(10, 6))  # Aumentado para melhor legibilidade\n",
        "    plt.bar(contador.keys(), contador.values())\n",
        "    plt.title(\"Frequência de Emoções\")\n",
        "    plt.xlabel(\"Emoção\")\n",
        "    plt.ylabel(\"Frequência\")\n",
        "    plt.xticks(rotation=45, ha='right')  # Alinha rótulos à direita para evitar sobreposição\n",
        "    plt.tight_layout(pad=2.0)  # Aumenta o padding para evitar corte\n",
        "    caminho = CAMINHO_BASE + \"emocoes_plot.png\"\n",
        "    plt.savefig(caminho)\n",
        "    print(\"📊 Gráfico salvo localmente em 'emocoes_plot.png'!\")\n",
        "    try:\n",
        "        from google.colab import files\n",
        "        files.download(caminho)\n",
        "        print(\"📥 Gráfico disponível para download\")\n",
        "    except:\n",
        "        print(\"⚠️ Download não disponível neste ambiente\")\n",
        "    plt.close()"
      ],
      "metadata": {
        "id": "HVhQeQsggEyN"
      },
      "execution_count": 4,
      "outputs": []
    },
    {
      "cell_type": "code",
      "source": [
        "# 🔁 Interação com o Agente Emocional Inteligente\n",
        "pontos_bem_estar = 0  # Variável global para pontos\n",
        "nivel = \"Iniciante\"   # Nível inicial\n",
        "\n",
        "def interagir_com_agente():\n",
        "    global pontos_bem_estar, nivel\n",
        "    print(\"🧠 Agente Emocional Inteligente\")\n",
        "    while True:\n",
        "        tarefa = input(\"👉 Qual tarefa você está tentando fazer agora? (ou 'sair' para encerrar)\\n> \")\n",
        "        if tarefa.lower() == 'sair':\n",
        "            print(f\"👋 Até a próxima! Pontos: {pontos_bem_estar} | Nível: {nivel}\")\n",
        "            break\n",
        "\n",
        "        emocao = input(\"💬 Como você está se sentindo nesse momento?\\n> \")\n",
        "        if emocao.lower() == 'sair':\n",
        "            print(f\"👋 Até a próxima! Pontos: {pontos_bem_estar} | Nível: {nivel}\")\n",
        "            break\n",
        "\n",
        "        # Validação de inputs\n",
        "        if not tarefa.strip():\n",
        "            print(\"⚠️ A tarefa não pode estar vazia. Tente novamente.\")\n",
        "            continue\n",
        "        if not emocao.strip():\n",
        "            print(\"⚠️ A emoção não pode estar vazia. Tente novamente.\")\n",
        "            continue\n",
        "        emocao_normalizada = agrupar_emocao(emocao)\n",
        "        valid_emotions = list(GRUPOS_EMOCAO.keys()) + [term for sublist in GRUPOS_EMOCAO.values() for term in sublist]\n",
        "        if emocao_normalizada not in valid_emotions:\n",
        "            print(f\"⚠️ Emoção '{emocao}' não reconhecida. Tente algo como: ansioso, cansado, feliz, triste, motivado.\")\n",
        "            continue\n",
        "\n",
        "        # 🧾 Criando o prompt com instruções claras para o Gemini\n",
        "        prompt = f\"\"\"\n",
        "        Você é um agente emocional digital. Sua missão é ajudar o usuário a manter a produtividade sem ignorar o bem-estar emocional.\n",
        "\n",
        "        Dado:\n",
        "        - Emoção: {emocao_normalizada}\n",
        "        - Tarefa: {tarefa}\n",
        "\n",
        "        Responda de forma breve, empática e prática.\n",
        "        Inclua:\n",
        "        1. Uma sugestão simples para ajudar com a tarefa considerando o estado emocional.\n",
        "        2. Um reforço positivo final.\n",
        "\n",
        "        Exemplos:\n",
        "        Usuário: 'Ansioso tentando escrever um relatório'\n",
        "        Resposta: 'Tente fazer um esboço rápido com os tópicos principais. Isso reduz a ansiedade. Você consegue!'\n",
        "\n",
        "        Usuário: 'Cansado e precisa revisar um texto'\n",
        "        Resposta: 'Dê uma pausa de 5 minutos, respire fundo e volte com mais clareza. Seu esforço vale a pena!'\n",
        "\n",
        "        Agora, gere a resposta para o caso:\n",
        "        \"\"\"\n",
        "\n",
        "        # 🎯 Chamando o modelo Gemini com tratamento de erro\n",
        "        try:\n",
        "            model = genai.GenerativeModel(\"gemini-1.5-flash\")\n",
        "            response = model.generate_content(prompt)\n",
        "            resposta_gemini = response.text\n",
        "        except Exception as e:\n",
        "            print(f\"⚠️ Erro ao chamar a API do Gemini: {e}\")\n",
        "            resposta_gemini = gerar_resposta_emocional(emocao_normalizada)\n",
        "\n",
        "        # 💬 Mostrando a resposta do agente\n",
        "        print(\"\\n🤖 Sugestão personalizada:\")\n",
        "        print(resposta_gemini)\n",
        "\n",
        "        # 📝 Registrar a interação com a resposta do Gemini\n",
        "        registrar_interacao(tarefa, emocao_normalizada, resposta_gemini)\n",
        "\n",
        "        # Feedback do usuário e gamificação\n",
        "        print(\"\\n📌 Funcionou? Digite 'sim', 'não' ou 'sair'.\")\n",
        "        feedback = input(\"> \")\n",
        "        if feedback.lower() == 'sair':\n",
        "            print(f\"👋 Até a próxima! Pontos: {pontos_bem_estar} | Nível: {nivel}\")\n",
        "            break\n",
        "        elif feedback.lower() == 'sim':\n",
        "            pontos_bem_estar += 10\n",
        "            if pontos_bem_estar >= 30:\n",
        "                nivel = \"Mestre\"\n",
        "            elif pontos_bem_estar >= 20:\n",
        "                nivel = \"Focado\"\n",
        "            elif pontos_bem_estar >= 10:\n",
        "                nivel = \"Intermediário\"\n",
        "            print(f\"🎉 Ótimo! +10 pontos. Total: {pontos_bem_estar} | Novo nível: {nivel}\")\n",
        "        elif feedback.lower() == 'não':\n",
        "            print(\"🤔 Entendi. Vamos tentar outra sugestão.\")\n",
        "            continue\n",
        "        else:\n",
        "            print(f\"🎉 Resposta inválida, mas seguimos! Pontos: {pontos_bem_estar} | Nível: {nivel}\")\n",
        "\n",
        "# Executar a interação\n",
        "interagir_com_agente()"
      ],
      "metadata": {
        "colab": {
          "base_uri": "https://localhost:8080/",
          "height": 868
        },
        "collapsed": true,
        "id": "lhqw1EQzZZWk",
        "outputId": "fcef79c0-eef5-4d97-f787-0e6f3b149248"
      },
      "execution_count": 5,
      "outputs": [
        {
          "output_type": "stream",
          "name": "stdout",
          "text": [
            "🧠 Agente Emocional Inteligente\n",
            "👉 Qual tarefa você está tentando fazer agora? (ou 'sair' para encerrar)\n",
            "> estudando\n",
            "💬 Como você está se sentindo nesse momento?\n",
            "> animado\n",
            "\n",
            "🤖 Sugestão personalizada:\n",
            "Aproveite essa felicidade!  Coloque uma música animada enquanto estuda para manter o ânimo alto.  Você está brilhando!\n",
            "\n",
            "💾 Interações salvas localmente com sucesso!\n"
          ]
        },
        {
          "output_type": "display_data",
          "data": {
            "text/plain": [
              "<IPython.core.display.Javascript object>"
            ],
            "application/javascript": [
              "\n",
              "    async function download(id, filename, size) {\n",
              "      if (!google.colab.kernel.accessAllowed) {\n",
              "        return;\n",
              "      }\n",
              "      const div = document.createElement('div');\n",
              "      const label = document.createElement('label');\n",
              "      label.textContent = `Downloading \"${filename}\": `;\n",
              "      div.appendChild(label);\n",
              "      const progress = document.createElement('progress');\n",
              "      progress.max = size;\n",
              "      div.appendChild(progress);\n",
              "      document.body.appendChild(div);\n",
              "\n",
              "      const buffers = [];\n",
              "      let downloaded = 0;\n",
              "\n",
              "      const channel = await google.colab.kernel.comms.open(id);\n",
              "      // Send a message to notify the kernel that we're ready.\n",
              "      channel.send({})\n",
              "\n",
              "      for await (const message of channel.messages) {\n",
              "        // Send a message to notify the kernel that we're ready.\n",
              "        channel.send({})\n",
              "        if (message.buffers) {\n",
              "          for (const buffer of message.buffers) {\n",
              "            buffers.push(buffer);\n",
              "            downloaded += buffer.byteLength;\n",
              "            progress.value = downloaded;\n",
              "          }\n",
              "        }\n",
              "      }\n",
              "      const blob = new Blob(buffers, {type: 'application/binary'});\n",
              "      const a = document.createElement('a');\n",
              "      a.href = window.URL.createObjectURL(blob);\n",
              "      a.download = filename;\n",
              "      div.appendChild(a);\n",
              "      a.click();\n",
              "      div.remove();\n",
              "    }\n",
              "  "
            ]
          },
          "metadata": {}
        },
        {
          "output_type": "display_data",
          "data": {
            "text/plain": [
              "<IPython.core.display.Javascript object>"
            ],
            "application/javascript": [
              "download(\"download_93f4ae0c-3264-4121-bd77-7b94329b3b79\", \"interacoes.json\", 6411)"
            ]
          },
          "metadata": {}
        },
        {
          "output_type": "stream",
          "name": "stdout",
          "text": [
            "📥 Arquivo JSON disponível para download\n"
          ]
        },
        {
          "output_type": "display_data",
          "data": {
            "text/plain": [
              "<IPython.core.display.Javascript object>"
            ],
            "application/javascript": [
              "\n",
              "    async function download(id, filename, size) {\n",
              "      if (!google.colab.kernel.accessAllowed) {\n",
              "        return;\n",
              "      }\n",
              "      const div = document.createElement('div');\n",
              "      const label = document.createElement('label');\n",
              "      label.textContent = `Downloading \"${filename}\": `;\n",
              "      div.appendChild(label);\n",
              "      const progress = document.createElement('progress');\n",
              "      progress.max = size;\n",
              "      div.appendChild(progress);\n",
              "      document.body.appendChild(div);\n",
              "\n",
              "      const buffers = [];\n",
              "      let downloaded = 0;\n",
              "\n",
              "      const channel = await google.colab.kernel.comms.open(id);\n",
              "      // Send a message to notify the kernel that we're ready.\n",
              "      channel.send({})\n",
              "\n",
              "      for await (const message of channel.messages) {\n",
              "        // Send a message to notify the kernel that we're ready.\n",
              "        channel.send({})\n",
              "        if (message.buffers) {\n",
              "          for (const buffer of message.buffers) {\n",
              "            buffers.push(buffer);\n",
              "            downloaded += buffer.byteLength;\n",
              "            progress.value = downloaded;\n",
              "          }\n",
              "        }\n",
              "      }\n",
              "      const blob = new Blob(buffers, {type: 'application/binary'});\n",
              "      const a = document.createElement('a');\n",
              "      a.href = window.URL.createObjectURL(blob);\n",
              "      a.download = filename;\n",
              "      div.appendChild(a);\n",
              "      a.click();\n",
              "      div.remove();\n",
              "    }\n",
              "  "
            ]
          },
          "metadata": {}
        },
        {
          "output_type": "display_data",
          "data": {
            "text/plain": [
              "<IPython.core.display.Javascript object>"
            ],
            "application/javascript": [
              "download(\"download_306cfdef-9fea-4af4-a9fc-f74b36b804a0\", \"interacoes_backup.txt\", 4141)"
            ]
          },
          "metadata": {}
        },
        {
          "output_type": "stream",
          "name": "stdout",
          "text": [
            "📥 Arquivo TXT disponível para download\n",
            "✅ Interação registrada com sucesso!\n",
            "\n",
            "📌 Funcionou? Digite 'sim', 'não' ou 'sair'.\n",
            "> sim\n",
            "🎉 Ótimo! +10 pontos. Total: 10 | Novo nível: Intermediário\n",
            "👉 Qual tarefa você está tentando fazer agora? (ou 'sair' para encerrar)\n",
            "> estudando\n",
            "💬 Como você está se sentindo nesse momento?\n",
            "> feliz\n",
            "\n",
            "🤖 Sugestão personalizada:\n",
            "Aproveite essa felicidade! Coloque uma música animada enquanto estuda para manter o ânimo e a concentração.  Você está arrasando!\n",
            "\n",
            "💾 Interações salvas localmente com sucesso!\n"
          ]
        },
        {
          "output_type": "display_data",
          "data": {
            "text/plain": [
              "<IPython.core.display.Javascript object>"
            ],
            "application/javascript": [
              "\n",
              "    async function download(id, filename, size) {\n",
              "      if (!google.colab.kernel.accessAllowed) {\n",
              "        return;\n",
              "      }\n",
              "      const div = document.createElement('div');\n",
              "      const label = document.createElement('label');\n",
              "      label.textContent = `Downloading \"${filename}\": `;\n",
              "      div.appendChild(label);\n",
              "      const progress = document.createElement('progress');\n",
              "      progress.max = size;\n",
              "      div.appendChild(progress);\n",
              "      document.body.appendChild(div);\n",
              "\n",
              "      const buffers = [];\n",
              "      let downloaded = 0;\n",
              "\n",
              "      const channel = await google.colab.kernel.comms.open(id);\n",
              "      // Send a message to notify the kernel that we're ready.\n",
              "      channel.send({})\n",
              "\n",
              "      for await (const message of channel.messages) {\n",
              "        // Send a message to notify the kernel that we're ready.\n",
              "        channel.send({})\n",
              "        if (message.buffers) {\n",
              "          for (const buffer of message.buffers) {\n",
              "            buffers.push(buffer);\n",
              "            downloaded += buffer.byteLength;\n",
              "            progress.value = downloaded;\n",
              "          }\n",
              "        }\n",
              "      }\n",
              "      const blob = new Blob(buffers, {type: 'application/binary'});\n",
              "      const a = document.createElement('a');\n",
              "      a.href = window.URL.createObjectURL(blob);\n",
              "      a.download = filename;\n",
              "      div.appendChild(a);\n",
              "      a.click();\n",
              "      div.remove();\n",
              "    }\n",
              "  "
            ]
          },
          "metadata": {}
        },
        {
          "output_type": "display_data",
          "data": {
            "text/plain": [
              "<IPython.core.display.Javascript object>"
            ],
            "application/javascript": [
              "download(\"download_f1a2ab6b-a7ac-4866-8ffb-b9d8ccee372f\", \"interacoes.json\", 6723)"
            ]
          },
          "metadata": {}
        },
        {
          "output_type": "stream",
          "name": "stdout",
          "text": [
            "📥 Arquivo JSON disponível para download\n"
          ]
        },
        {
          "output_type": "display_data",
          "data": {
            "text/plain": [
              "<IPython.core.display.Javascript object>"
            ],
            "application/javascript": [
              "\n",
              "    async function download(id, filename, size) {\n",
              "      if (!google.colab.kernel.accessAllowed) {\n",
              "        return;\n",
              "      }\n",
              "      const div = document.createElement('div');\n",
              "      const label = document.createElement('label');\n",
              "      label.textContent = `Downloading \"${filename}\": `;\n",
              "      div.appendChild(label);\n",
              "      const progress = document.createElement('progress');\n",
              "      progress.max = size;\n",
              "      div.appendChild(progress);\n",
              "      document.body.appendChild(div);\n",
              "\n",
              "      const buffers = [];\n",
              "      let downloaded = 0;\n",
              "\n",
              "      const channel = await google.colab.kernel.comms.open(id);\n",
              "      // Send a message to notify the kernel that we're ready.\n",
              "      channel.send({})\n",
              "\n",
              "      for await (const message of channel.messages) {\n",
              "        // Send a message to notify the kernel that we're ready.\n",
              "        channel.send({})\n",
              "        if (message.buffers) {\n",
              "          for (const buffer of message.buffers) {\n",
              "            buffers.push(buffer);\n",
              "            downloaded += buffer.byteLength;\n",
              "            progress.value = downloaded;\n",
              "          }\n",
              "        }\n",
              "      }\n",
              "      const blob = new Blob(buffers, {type: 'application/binary'});\n",
              "      const a = document.createElement('a');\n",
              "      a.href = window.URL.createObjectURL(blob);\n",
              "      a.download = filename;\n",
              "      div.appendChild(a);\n",
              "      a.click();\n",
              "      div.remove();\n",
              "    }\n",
              "  "
            ]
          },
          "metadata": {}
        },
        {
          "output_type": "display_data",
          "data": {
            "text/plain": [
              "<IPython.core.display.Javascript object>"
            ],
            "application/javascript": [
              "download(\"download_6494d615-426e-4159-a3ff-97ce981b8f3f\", \"interacoes_backup.txt\", 4333)"
            ]
          },
          "metadata": {}
        },
        {
          "output_type": "stream",
          "name": "stdout",
          "text": [
            "📥 Arquivo TXT disponível para download\n",
            "✅ Interação registrada com sucesso!\n",
            "\n",
            "📌 Funcionou? Digite 'sim', 'não' ou 'sair'.\n",
            "> sim\n",
            "🎉 Ótimo! +10 pontos. Total: 20 | Novo nível: Focado\n",
            "👉 Qual tarefa você está tentando fazer agora? (ou 'sair' para encerrar)\n",
            "> programando\n",
            "💬 Como você está se sentindo nesse momento?\n",
            "> feliz\n",
            "\n",
            "🤖 Sugestão personalizada:\n",
            "Aproveite essa felicidade!  Coloque uma música animada enquanto programa.  Você vai voar!\n",
            "\n",
            "💾 Interações salvas localmente com sucesso!\n"
          ]
        },
        {
          "output_type": "display_data",
          "data": {
            "text/plain": [
              "<IPython.core.display.Javascript object>"
            ],
            "application/javascript": [
              "\n",
              "    async function download(id, filename, size) {\n",
              "      if (!google.colab.kernel.accessAllowed) {\n",
              "        return;\n",
              "      }\n",
              "      const div = document.createElement('div');\n",
              "      const label = document.createElement('label');\n",
              "      label.textContent = `Downloading \"${filename}\": `;\n",
              "      div.appendChild(label);\n",
              "      const progress = document.createElement('progress');\n",
              "      progress.max = size;\n",
              "      div.appendChild(progress);\n",
              "      document.body.appendChild(div);\n",
              "\n",
              "      const buffers = [];\n",
              "      let downloaded = 0;\n",
              "\n",
              "      const channel = await google.colab.kernel.comms.open(id);\n",
              "      // Send a message to notify the kernel that we're ready.\n",
              "      channel.send({})\n",
              "\n",
              "      for await (const message of channel.messages) {\n",
              "        // Send a message to notify the kernel that we're ready.\n",
              "        channel.send({})\n",
              "        if (message.buffers) {\n",
              "          for (const buffer of message.buffers) {\n",
              "            buffers.push(buffer);\n",
              "            downloaded += buffer.byteLength;\n",
              "            progress.value = downloaded;\n",
              "          }\n",
              "        }\n",
              "      }\n",
              "      const blob = new Blob(buffers, {type: 'application/binary'});\n",
              "      const a = document.createElement('a');\n",
              "      a.href = window.URL.createObjectURL(blob);\n",
              "      a.download = filename;\n",
              "      div.appendChild(a);\n",
              "      a.click();\n",
              "      div.remove();\n",
              "    }\n",
              "  "
            ]
          },
          "metadata": {}
        },
        {
          "output_type": "display_data",
          "data": {
            "text/plain": [
              "<IPython.core.display.Javascript object>"
            ],
            "application/javascript": [
              "download(\"download_5a7165b9-e4d2-417a-b1d0-fa8630feabd1\", \"interacoes.json\", 6977)"
            ]
          },
          "metadata": {}
        },
        {
          "output_type": "stream",
          "name": "stdout",
          "text": [
            "📥 Arquivo JSON disponível para download\n"
          ]
        },
        {
          "output_type": "display_data",
          "data": {
            "text/plain": [
              "<IPython.core.display.Javascript object>"
            ],
            "application/javascript": [
              "\n",
              "    async function download(id, filename, size) {\n",
              "      if (!google.colab.kernel.accessAllowed) {\n",
              "        return;\n",
              "      }\n",
              "      const div = document.createElement('div');\n",
              "      const label = document.createElement('label');\n",
              "      label.textContent = `Downloading \"${filename}\": `;\n",
              "      div.appendChild(label);\n",
              "      const progress = document.createElement('progress');\n",
              "      progress.max = size;\n",
              "      div.appendChild(progress);\n",
              "      document.body.appendChild(div);\n",
              "\n",
              "      const buffers = [];\n",
              "      let downloaded = 0;\n",
              "\n",
              "      const channel = await google.colab.kernel.comms.open(id);\n",
              "      // Send a message to notify the kernel that we're ready.\n",
              "      channel.send({})\n",
              "\n",
              "      for await (const message of channel.messages) {\n",
              "        // Send a message to notify the kernel that we're ready.\n",
              "        channel.send({})\n",
              "        if (message.buffers) {\n",
              "          for (const buffer of message.buffers) {\n",
              "            buffers.push(buffer);\n",
              "            downloaded += buffer.byteLength;\n",
              "            progress.value = downloaded;\n",
              "          }\n",
              "        }\n",
              "      }\n",
              "      const blob = new Blob(buffers, {type: 'application/binary'});\n",
              "      const a = document.createElement('a');\n",
              "      a.href = window.URL.createObjectURL(blob);\n",
              "      a.download = filename;\n",
              "      div.appendChild(a);\n",
              "      a.click();\n",
              "      div.remove();\n",
              "    }\n",
              "  "
            ]
          },
          "metadata": {}
        },
        {
          "output_type": "display_data",
          "data": {
            "text/plain": [
              "<IPython.core.display.Javascript object>"
            ],
            "application/javascript": [
              "download(\"download_95dbc7a6-28ea-47ed-827c-1b1a2e23fa8a\", \"interacoes_backup.txt\", 4483)"
            ]
          },
          "metadata": {}
        },
        {
          "output_type": "stream",
          "name": "stdout",
          "text": [
            "📥 Arquivo TXT disponível para download\n",
            "✅ Interação registrada com sucesso!\n",
            "\n",
            "📌 Funcionou? Digite 'sim', 'não' ou 'sair'.\n",
            "> sair\n",
            "👋 Até a próxima! Pontos: 20 | Nível: Focado\n"
          ]
        }
      ]
    },
    {
      "cell_type": "code",
      "source": [
        "# Gerar relatório visual\n",
        "interacoes = carregar_interacoes()\n",
        "if interacoes:\n",
        "    gerar_relatorio_visual(interacoes)\n",
        "else:\n",
        "    print(\"⚠️ Nenhuma interação encontrada para gerar o relatório visual.\")"
      ],
      "metadata": {
        "colab": {
          "base_uri": "https://localhost:8080/",
          "height": 52
        },
        "id": "G4AkJzb_CN6R",
        "outputId": "0c0482c2-d94f-4277-b040-6d5053606184"
      },
      "execution_count": 6,
      "outputs": [
        {
          "output_type": "stream",
          "name": "stdout",
          "text": [
            "📊 Gráfico salvo localmente em 'emocoes_plot.png'!\n"
          ]
        },
        {
          "output_type": "display_data",
          "data": {
            "text/plain": [
              "<IPython.core.display.Javascript object>"
            ],
            "application/javascript": [
              "\n",
              "    async function download(id, filename, size) {\n",
              "      if (!google.colab.kernel.accessAllowed) {\n",
              "        return;\n",
              "      }\n",
              "      const div = document.createElement('div');\n",
              "      const label = document.createElement('label');\n",
              "      label.textContent = `Downloading \"${filename}\": `;\n",
              "      div.appendChild(label);\n",
              "      const progress = document.createElement('progress');\n",
              "      progress.max = size;\n",
              "      div.appendChild(progress);\n",
              "      document.body.appendChild(div);\n",
              "\n",
              "      const buffers = [];\n",
              "      let downloaded = 0;\n",
              "\n",
              "      const channel = await google.colab.kernel.comms.open(id);\n",
              "      // Send a message to notify the kernel that we're ready.\n",
              "      channel.send({})\n",
              "\n",
              "      for await (const message of channel.messages) {\n",
              "        // Send a message to notify the kernel that we're ready.\n",
              "        channel.send({})\n",
              "        if (message.buffers) {\n",
              "          for (const buffer of message.buffers) {\n",
              "            buffers.push(buffer);\n",
              "            downloaded += buffer.byteLength;\n",
              "            progress.value = downloaded;\n",
              "          }\n",
              "        }\n",
              "      }\n",
              "      const blob = new Blob(buffers, {type: 'application/binary'});\n",
              "      const a = document.createElement('a');\n",
              "      a.href = window.URL.createObjectURL(blob);\n",
              "      a.download = filename;\n",
              "      div.appendChild(a);\n",
              "      a.click();\n",
              "      div.remove();\n",
              "    }\n",
              "  "
            ]
          },
          "metadata": {}
        },
        {
          "output_type": "display_data",
          "data": {
            "text/plain": [
              "<IPython.core.display.Javascript object>"
            ],
            "application/javascript": [
              "download(\"download_1b548d36-e627-4a65-8c24-15817081d908\", \"emocoes_plot.png\", 40538)"
            ]
          },
          "metadata": {}
        },
        {
          "output_type": "stream",
          "name": "stdout",
          "text": [
            "📥 Gráfico disponível para download\n"
          ]
        }
      ]
    },
    {
      "cell_type": "code",
      "source": [
        "# Interface Gradio\n",
        "!pip install -q gradio\n",
        "\n",
        "import gradio as gr\n",
        "\n",
        "def interagir_gradio(tarefa, emocao):\n",
        "    global pontos_bem_estar, nivel\n",
        "    print(f\"Recebido: tarefa='{tarefa}', emocao='{emocao}'\")  # Depuração\n",
        "    if not tarefa.strip():\n",
        "        return \"⚠️ A tarefa não pode estar vazia. Tente novamente.\"\n",
        "    if not emocao.strip():\n",
        "        return \"⚠️ A emoção não pode estar vazia. Tente novamente.\"\n",
        "    emocao_normalizada = agrupar_emocao(emocao)\n",
        "    valid_emotions = list(GRUPOS_EMOCAO.keys()) + [term for sublist in GRUPOS_EMOCAO.values() for term in sublist]\n",
        "    if emocao_normalizada not in valid_emotions:\n",
        "        return f\"⚠️ Emoção '{emocao}' não reconhecida. Tente algo como: ansioso, cansado, feliz, triste, motivado.\"\n",
        "\n",
        "    prompt = f\"\"\"\n",
        "    Você é um agente emocional digital. Sua missão é ajudar o usuário a manter a produtividade sem ignorar o bem-estar emocional.\n",
        "\n",
        "    Dado:\n",
        "    - Emoção: {emocao_normalizada}\n",
        "    - Tarefa: {tarefa}\n",
        "\n",
        "    Responda de forma breve, empática e prática.\n",
        "    Inclua:\n",
        "    1. Uma sugestão simples para ajudar com a tarefa considerando o estado emocional.\n",
        "    2. Um reforço positivo final.\n",
        "    \"\"\"\n",
        "    try:\n",
        "        print(\"Chamando Gemini...\")  # Depuração\n",
        "        model = genai.GenerativeModel(\"gemini-1.5-flash\")\n",
        "        response = model.generate_content(prompt)\n",
        "        resposta = response.text\n",
        "        print(f\"Resposta Gemini: {resposta}\")  # Depuração\n",
        "    except Exception as e:\n",
        "        print(f\"⚠️ Erro ao chamar a API do Gemini: {e}\")  # Depuração\n",
        "        resposta = gerar_resposta_emocional(emocao_normalizada)\n",
        "\n",
        "    registrar_interacao(tarefa, emocao_normalizada, resposta)\n",
        "    resultado = f\"🤖 Sugestão: {resposta}\\n🎮 Pontos: {pontos_bem_estar} | Nível: {nivel}\"\n",
        "    print(f\"Retornando: {resultado}\")  # Depuração\n",
        "    return resultado\n",
        "\n",
        "def gerar_grafico():\n",
        "    interacoes = carregar_interacoes()\n",
        "    if not interacoes:\n",
        "        return \"⚠️ Nenhuma interação encontrada para gerar o gráfico.\"\n",
        "    gerar_relatorio_visual(interacoes)\n",
        "    return CAMINHO_BASE + \"emocoes_plot.png\"  # Retorna o caminho do arquivo\n",
        "\n",
        "def sair():\n",
        "    global pontos_bem_estar, nivel\n",
        "    return f\"👋 Até a próxima! Pontos: {pontos_bem_estar} | Nível: {nivel}\"\n",
        "\n",
        "with gr.Blocks() as demo:\n",
        "    gr.Markdown(\"# 🧠 Agente Emocional Inteligente\")\n",
        "    with gr.Row():\n",
        "        tarefa_input = gr.Textbox(label=\"👉 Qual tarefa você está tentando fazer?\")\n",
        "        emocao_input = gr.Textbox(label=\"💬 Como você está se sentindo?\")\n",
        "    with gr.Row():\n",
        "        submit_btn = gr.Button(\"Enviar\")\n",
        "        sair_btn = gr.Button(\"Sair\")\n",
        "    output = gr.Textbox(label=\"🤖 Resposta do Agente\")\n",
        "    plot_btn = gr.Button(\"Gerar Gráfico\")\n",
        "    plot_output = gr.Image(label=\"📊 Gráfico de Emoções\")\n",
        "\n",
        "    submit_btn.click(\n",
        "        fn=interagir_gradio,\n",
        "        inputs=[tarefa_input, emocao_input],\n",
        "        outputs=output\n",
        "    )\n",
        "    sair_btn.click(\n",
        "        fn=sair,\n",
        "        inputs=None,\n",
        "        outputs=output\n",
        "    )\n",
        "    plot_btn.click(\n",
        "        fn=gerar_grafico,\n",
        "        inputs=None,\n",
        "        outputs=plot_output\n",
        "    )\n",
        "\n",
        "demo.launch(debug=True)  # Mantido debug=True para ver erros"
      ],
      "metadata": {
        "colab": {
          "base_uri": "https://localhost:8080/",
          "height": 903
        },
        "id": "K7p04K5WH8CD",
        "outputId": "a3d922b7-e137-410e-cab1-d10099e160c3"
      },
      "execution_count": null,
      "outputs": [
        {
          "output_type": "stream",
          "name": "stdout",
          "text": [
            "It looks like you are running Gradio on a hosted a Jupyter notebook. For the Gradio app to work, sharing must be enabled. Automatically setting `share=True` (you can turn this off by setting `share=False` in `launch()` explicitly).\n",
            "\n",
            "Colab notebook detected. This cell will run indefinitely so that you can see errors and logs. To turn off, set debug=False in launch().\n",
            "* Running on public URL: https://ea20daa5a29a1974b4.gradio.live\n",
            "\n",
            "This share link expires in 1 week. For free permanent hosting and GPU upgrades, run `gradio deploy` from the terminal in the working directory to deploy to Hugging Face Spaces (https://huggingface.co/spaces)\n"
          ]
        },
        {
          "output_type": "display_data",
          "data": {
            "text/plain": [
              "<IPython.core.display.HTML object>"
            ],
            "text/html": [
              "<div><iframe src=\"https://ea20daa5a29a1974b4.gradio.live\" width=\"100%\" height=\"500\" allow=\"autoplay; camera; microphone; clipboard-read; clipboard-write;\" frameborder=\"0\" allowfullscreen></iframe></div>"
            ]
          },
          "metadata": {}
        },
        {
          "output_type": "stream",
          "name": "stdout",
          "text": [
            "Recebido: tarefa='estudando', emocao='feliz'\n",
            "Chamando Gemini...\n",
            "Resposta Gemini: Que ótimo que você está feliz enquanto estuda!  Aproveite essa energia positiva fazendo um pequeno intervalo com algo que te deixe ainda mais feliz entre os tópicos de estudo.  Você vai arrasar!\n",
            "\n",
            "💾 Interações salvas localmente com sucesso!\n"
          ]
        },
        {
          "output_type": "display_data",
          "data": {
            "text/plain": [
              "<IPython.core.display.Javascript object>"
            ],
            "application/javascript": [
              "\n",
              "    async function download(id, filename, size) {\n",
              "      if (!google.colab.kernel.accessAllowed) {\n",
              "        return;\n",
              "      }\n",
              "      const div = document.createElement('div');\n",
              "      const label = document.createElement('label');\n",
              "      label.textContent = `Downloading \"${filename}\": `;\n",
              "      div.appendChild(label);\n",
              "      const progress = document.createElement('progress');\n",
              "      progress.max = size;\n",
              "      div.appendChild(progress);\n",
              "      document.body.appendChild(div);\n",
              "\n",
              "      const buffers = [];\n",
              "      let downloaded = 0;\n",
              "\n",
              "      const channel = await google.colab.kernel.comms.open(id);\n",
              "      // Send a message to notify the kernel that we're ready.\n",
              "      channel.send({})\n",
              "\n",
              "      for await (const message of channel.messages) {\n",
              "        // Send a message to notify the kernel that we're ready.\n",
              "        channel.send({})\n",
              "        if (message.buffers) {\n",
              "          for (const buffer of message.buffers) {\n",
              "            buffers.push(buffer);\n",
              "            downloaded += buffer.byteLength;\n",
              "            progress.value = downloaded;\n",
              "          }\n",
              "        }\n",
              "      }\n",
              "      const blob = new Blob(buffers, {type: 'application/binary'});\n",
              "      const a = document.createElement('a');\n",
              "      a.href = window.URL.createObjectURL(blob);\n",
              "      a.download = filename;\n",
              "      div.appendChild(a);\n",
              "      a.click();\n",
              "      div.remove();\n",
              "    }\n",
              "  "
            ]
          },
          "metadata": {}
        },
        {
          "output_type": "display_data",
          "data": {
            "text/plain": [
              "<IPython.core.display.Javascript object>"
            ],
            "application/javascript": [
              "download(\"download_fbeb46e2-34f4-4f2b-8c38-a2067c8a6421\", \"interacoes.json\", 7349)"
            ]
          },
          "metadata": {}
        },
        {
          "output_type": "stream",
          "name": "stdout",
          "text": [
            "📥 Arquivo JSON disponível para download\n"
          ]
        },
        {
          "output_type": "display_data",
          "data": {
            "text/plain": [
              "<IPython.core.display.Javascript object>"
            ],
            "application/javascript": [
              "\n",
              "    async function download(id, filename, size) {\n",
              "      if (!google.colab.kernel.accessAllowed) {\n",
              "        return;\n",
              "      }\n",
              "      const div = document.createElement('div');\n",
              "      const label = document.createElement('label');\n",
              "      label.textContent = `Downloading \"${filename}\": `;\n",
              "      div.appendChild(label);\n",
              "      const progress = document.createElement('progress');\n",
              "      progress.max = size;\n",
              "      div.appendChild(progress);\n",
              "      document.body.appendChild(div);\n",
              "\n",
              "      const buffers = [];\n",
              "      let downloaded = 0;\n",
              "\n",
              "      const channel = await google.colab.kernel.comms.open(id);\n",
              "      // Send a message to notify the kernel that we're ready.\n",
              "      channel.send({})\n",
              "\n",
              "      for await (const message of channel.messages) {\n",
              "        // Send a message to notify the kernel that we're ready.\n",
              "        channel.send({})\n",
              "        if (message.buffers) {\n",
              "          for (const buffer of message.buffers) {\n",
              "            buffers.push(buffer);\n",
              "            downloaded += buffer.byteLength;\n",
              "            progress.value = downloaded;\n",
              "          }\n",
              "        }\n",
              "      }\n",
              "      const blob = new Blob(buffers, {type: 'application/binary'});\n",
              "      const a = document.createElement('a');\n",
              "      a.href = window.URL.createObjectURL(blob);\n",
              "      a.download = filename;\n",
              "      div.appendChild(a);\n",
              "      a.click();\n",
              "      div.remove();\n",
              "    }\n",
              "  "
            ]
          },
          "metadata": {}
        },
        {
          "output_type": "display_data",
          "data": {
            "text/plain": [
              "<IPython.core.display.Javascript object>"
            ],
            "application/javascript": [
              "download(\"download_382013ca-b217-487c-834a-aeebd2dfe369\", \"interacoes_backup.txt\", 4739)"
            ]
          },
          "metadata": {}
        },
        {
          "output_type": "stream",
          "name": "stdout",
          "text": [
            "📥 Arquivo TXT disponível para download\n",
            "✅ Interação registrada com sucesso!\n",
            "Retornando: 🤖 Sugestão: Que ótimo que você está feliz enquanto estuda!  Aproveite essa energia positiva fazendo um pequeno intervalo com algo que te deixe ainda mais feliz entre os tópicos de estudo.  Você vai arrasar!\n",
            "\n",
            "🎮 Pontos: 20 | Nível: Focado\n",
            "📊 Gráfico salvo localmente em 'emocoes_plot.png'!\n"
          ]
        },
        {
          "output_type": "display_data",
          "data": {
            "text/plain": [
              "<IPython.core.display.Javascript object>"
            ],
            "application/javascript": [
              "\n",
              "    async function download(id, filename, size) {\n",
              "      if (!google.colab.kernel.accessAllowed) {\n",
              "        return;\n",
              "      }\n",
              "      const div = document.createElement('div');\n",
              "      const label = document.createElement('label');\n",
              "      label.textContent = `Downloading \"${filename}\": `;\n",
              "      div.appendChild(label);\n",
              "      const progress = document.createElement('progress');\n",
              "      progress.max = size;\n",
              "      div.appendChild(progress);\n",
              "      document.body.appendChild(div);\n",
              "\n",
              "      const buffers = [];\n",
              "      let downloaded = 0;\n",
              "\n",
              "      const channel = await google.colab.kernel.comms.open(id);\n",
              "      // Send a message to notify the kernel that we're ready.\n",
              "      channel.send({})\n",
              "\n",
              "      for await (const message of channel.messages) {\n",
              "        // Send a message to notify the kernel that we're ready.\n",
              "        channel.send({})\n",
              "        if (message.buffers) {\n",
              "          for (const buffer of message.buffers) {\n",
              "            buffers.push(buffer);\n",
              "            downloaded += buffer.byteLength;\n",
              "            progress.value = downloaded;\n",
              "          }\n",
              "        }\n",
              "      }\n",
              "      const blob = new Blob(buffers, {type: 'application/binary'});\n",
              "      const a = document.createElement('a');\n",
              "      a.href = window.URL.createObjectURL(blob);\n",
              "      a.download = filename;\n",
              "      div.appendChild(a);\n",
              "      a.click();\n",
              "      div.remove();\n",
              "    }\n",
              "  "
            ]
          },
          "metadata": {}
        },
        {
          "output_type": "display_data",
          "data": {
            "text/plain": [
              "<IPython.core.display.Javascript object>"
            ],
            "application/javascript": [
              "download(\"download_779ee887-8459-4b9c-897c-c228dcc1d905\", \"emocoes_plot.png\", 40528)"
            ]
          },
          "metadata": {}
        },
        {
          "output_type": "stream",
          "name": "stdout",
          "text": [
            "📥 Gráfico disponível para download\n"
          ]
        }
      ]
    }
  ]
}